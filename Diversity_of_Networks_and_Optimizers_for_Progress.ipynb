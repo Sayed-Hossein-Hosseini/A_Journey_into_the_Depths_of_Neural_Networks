{
  "nbformat": 4,
  "nbformat_minor": 0,
  "metadata": {
    "colab": {
      "provenance": [],
      "authorship_tag": "ABX9TyMCSn/PGvi1CXmvymsxQmMv",
      "include_colab_link": true
    },
    "kernelspec": {
      "name": "python3",
      "display_name": "Python 3"
    },
    "language_info": {
      "name": "python"
    }
  },
  "cells": [
    {
      "cell_type": "markdown",
      "metadata": {
        "id": "view-in-github",
        "colab_type": "text"
      },
      "source": [
        "<a href=\"https://colab.research.google.com/github/Sayed-Hossein-Hosseini/A_Journey_into_the_Depths_of_Neural_Networks/blob/master/Diversity_of_Networks_and_Optimizers_for_Progress.ipynb\" target=\"_parent\"><img src=\"https://colab.research.google.com/assets/colab-badge.svg\" alt=\"Open In Colab\"/></a>"
      ]
    },
    {
      "cell_type": "markdown",
      "source": [
        "# **Diversity of Networks and Optimizers for Progress**"
      ],
      "metadata": {
        "id": "JkYfqlmvS9VE"
      }
    },
    {
      "cell_type": "markdown",
      "source": [
        "## **Libraries**"
      ],
      "metadata": {
        "id": "-VE8nF4oTEKr"
      }
    },
    {
      "cell_type": "code",
      "execution_count": 1,
      "metadata": {
        "id": "d-kXszUQRdF1"
      },
      "outputs": [],
      "source": [
        "import numpy as np\n",
        "import pandas as pd\n",
        "import matplotlib.pyplot as plt\n",
        "import seaborn as sns\n",
        "import tensorflow as tf\n",
        "from tensorflow.keras.utils import to_categorical\n",
        "import torch\n",
        "from torch.utils.data import TensorDataset, DataLoader\n",
        "from sklearn.model_selection import train_test_split\n",
        "from sklearn.metrics import confusion_matrix, f1_score, accuracy_score, precision_score, recall_score"
      ]
    },
    {
      "cell_type": "markdown",
      "source": [
        "## **Loading Dataset and Normalization**"
      ],
      "metadata": {
        "id": "iHPDP4x4TIVa"
      }
    },
    {
      "cell_type": "code",
      "source": [
        "if __name__ == \"__main__\":\n",
        "    # Load in the data\n",
        "    cifar10 = tf.keras.datasets.cifar10\n",
        "\n",
        "    (X_train, y_train), (X_test, y_test) = cifar10.load_data()\n",
        "    X_train, X_test = X_train / 255.0, X_test / 255.0\n",
        "\n",
        "    print(X_train.shape)\n",
        "    print(X_test.shape)\n",
        "\n",
        "    print(y_train.shape)\n",
        "    print(y_test.shape)"
      ],
      "metadata": {
        "colab": {
          "base_uri": "https://localhost:8080/"
        },
        "id": "2Meu9eVbTNcO",
        "outputId": "5fda68a6-a5e5-4027-8871-2be90c2c69db"
      },
      "execution_count": 2,
      "outputs": [
        {
          "output_type": "stream",
          "name": "stdout",
          "text": [
            "(50000, 32, 32, 3)\n",
            "(10000, 32, 32, 3)\n",
            "(50000, 1)\n",
            "(10000, 1)\n"
          ]
        }
      ]
    },
    {
      "cell_type": "markdown",
      "source": [
        "## **Flatten and Reshape Images**"
      ],
      "metadata": {
        "id": "rJV2N5cjTQTS"
      }
    },
    {
      "cell_type": "code",
      "source": [
        "if __name__ == \"__main__\":\n",
        "    # reshape images from (32, 32, 3) to (3072,)\n",
        "    X_train = X_train.reshape((X_train.shape[0], -1))  # (50000, 3072)\n",
        "    X_test = X_test.reshape((X_test.shape[0], -1))     # (10000, 3072)\n",
        "\n",
        "    y_train, y_test = y_train.flatten(), y_test.flatten() # (50000,  -   10000,)\n",
        "    print(y_train[:10])"
      ],
      "metadata": {
        "colab": {
          "base_uri": "https://localhost:8080/"
        },
        "id": "RYcnZemZTXmu",
        "outputId": "bf5c52d0-9610-4342-e09d-0ec15c50e63b"
      },
      "execution_count": 3,
      "outputs": [
        {
          "output_type": "stream",
          "name": "stdout",
          "text": [
            "[6 9 9 4 1 1 2 7 8 3]\n"
          ]
        }
      ]
    },
    {
      "cell_type": "markdown",
      "source": [
        "## **One-Hot Encoding**"
      ],
      "metadata": {
        "id": "rbKtTb2pTaI-"
      }
    },
    {
      "cell_type": "code",
      "source": [
        "y_train = to_categorical(y_train, num_classes=10)\n",
        "# y_test = to_categorical(y_test, num_classes=10)\n",
        "\n",
        "print(y_train.shape)\n",
        "# print(y_test.shape)\n",
        "\n",
        "print(y_train[:10])\n",
        "# print(y_test[:10])"
      ],
      "metadata": {
        "colab": {
          "base_uri": "https://localhost:8080/"
        },
        "id": "IomBB5sKTbCZ",
        "outputId": "05a7f758-b776-4c57-d603-f4e38232cc3a"
      },
      "execution_count": 4,
      "outputs": [
        {
          "output_type": "stream",
          "name": "stdout",
          "text": [
            "(50000, 10)\n",
            "[[0. 0. 0. 0. 0. 0. 1. 0. 0. 0.]\n",
            " [0. 0. 0. 0. 0. 0. 0. 0. 0. 1.]\n",
            " [0. 0. 0. 0. 0. 0. 0. 0. 0. 1.]\n",
            " [0. 0. 0. 0. 1. 0. 0. 0. 0. 0.]\n",
            " [0. 1. 0. 0. 0. 0. 0. 0. 0. 0.]\n",
            " [0. 1. 0. 0. 0. 0. 0. 0. 0. 0.]\n",
            " [0. 0. 1. 0. 0. 0. 0. 0. 0. 0.]\n",
            " [0. 0. 0. 0. 0. 0. 0. 1. 0. 0.]\n",
            " [0. 0. 0. 0. 0. 0. 0. 0. 1. 0.]\n",
            " [0. 0. 0. 1. 0. 0. 0. 0. 0. 0.]]\n"
          ]
        }
      ]
    },
    {
      "cell_type": "markdown",
      "source": [
        "## **Model**"
      ],
      "metadata": {
        "id": "KoM4zOFDT2Dy"
      }
    },
    {
      "cell_type": "markdown",
      "source": [
        "### **Activation Function : Sigmoid and Relu and Softmax and Tanh**"
      ],
      "metadata": {
        "id": "_EGtVE0ST7Qw"
      }
    },
    {
      "cell_type": "code",
      "source": [
        "class Activation:\n",
        "    @staticmethod\n",
        "    def sigmoid(z):\n",
        "        return 1 / (1 + np.exp(-z))\n",
        "\n",
        "    @staticmethod\n",
        "    def sigmoid_derivative(a):\n",
        "        return a * (1 - a)\n",
        "\n",
        "    @staticmethod\n",
        "    def relu(z):\n",
        "        return np.maximum(0, z)\n",
        "\n",
        "    @staticmethod\n",
        "    def relu_derivative(z):\n",
        "        return (z > 0).astype(float)\n",
        "\n",
        "    @staticmethod\n",
        "    def softmax(z):\n",
        "        exps = np.exp(z - np.max(z, axis=1, keepdims=True))  # For numerical stability\n",
        "        return exps / np.sum(exps, axis=1, keepdims=True)\n",
        "\n",
        "    @staticmethod\n",
        "    def softmax_derivative(output):\n",
        "        # The exact derivative of softmax is a Jacobian matrix.\n",
        "        # However, when used with cross-entropy loss, the gradient simplifies to:\n",
        "        # ∂L/∂z = y_pred - y_true\n",
        "        # So this method is typically not needed explicitly during backpropagation.\n",
        "        pass\n",
        "\n",
        "    @staticmethod\n",
        "    def tanh(z):\n",
        "        return np.tanh(z)\n",
        "\n",
        "    @staticmethod\n",
        "    def tanh_derivative(a):\n",
        "        return 1 - np.power(a, 2)"
      ],
      "metadata": {
        "id": "k3wKPi9CUFes"
      },
      "execution_count": 5,
      "outputs": []
    },
    {
      "cell_type": "markdown",
      "source": [
        "## **Neural Network**"
      ],
      "metadata": {
        "id": "v7PuBA2NUpMu"
      }
    },
    {
      "cell_type": "markdown",
      "source": [
        "### **Dence Layer Class**"
      ],
      "metadata": {
        "id": "M05WPk8HUvIl"
      }
    },
    {
      "cell_type": "code",
      "source": [
        "class DenseLayer:\n",
        "    def __init__(self, input_size, output_size, activation='sigmoid'):\n",
        "        self.w = np.random.randn(input_size, output_size) * 0.01\n",
        "        self.b = np.zeros((1, output_size))\n",
        "        self.activation_name = activation\n",
        "        self.z = None\n",
        "        self.a = None\n",
        "        self.input = None\n",
        "        self.dw = None\n",
        "        self.db = None\n",
        "\n",
        "    def forward(self, x):\n",
        "        self.input = x\n",
        "        self.z = np.dot(x, self.w) + self.b\n",
        "        if self.activation_name == 'sigmoid':\n",
        "            self.a = Activation.sigmoid(self.z)\n",
        "        elif self.activation_name == 'relu':\n",
        "            self.a = Activation.relu(self.z)\n",
        "        elif self.activation_name == 'tanh':\n",
        "            self.a = Activation.tanh(self.z)\n",
        "        elif self.activation_name == 'softmax':\n",
        "            self.a = Activation.softmax(self.z)\n",
        "        else:\n",
        "            raise ValueError(f\"Unsupported activation function: {self.activation_name}\")\n",
        "        return self.a\n",
        "\n",
        "    def backward(self, da):\n",
        "        m = self.input.shape[0]\n",
        "        if self.activation_name == 'sigmoid':\n",
        "            dz = da * Activation.sigmoid_derivative(self.a)\n",
        "        elif self.activation_name == 'relu':\n",
        "            dz = da * Activation.relu_derivative(self.z)\n",
        "        elif self.activation_name == 'tanh':\n",
        "            dz = da * Activation.tanh_derivative(self.a)\n",
        "        elif self.activation_name == 'softmax':\n",
        "            dz = da  # softmax + cross-entropy\n",
        "        else:\n",
        "            raise ValueError(f\"Unsupported activation function: {self.activation_name}\")\n",
        "\n",
        "        self.dw = np.dot(self.input.T, dz) / m\n",
        "        self.db = np.sum(dz, axis=0, keepdims=True) / m\n",
        "        return np.dot(dz, self.w.T)"
      ],
      "metadata": {
        "id": "H7RtNdIhUtN4"
      },
      "execution_count": 6,
      "outputs": []
    },
    {
      "cell_type": "markdown",
      "source": [
        "### **Optimizer Classes**"
      ],
      "metadata": {
        "id": "N3m_hbAcYAU5"
      }
    },
    {
      "cell_type": "code",
      "source": [
        "class SGD:\n",
        "    def __init__(self, lr=0.01):\n",
        "        self.lr = lr\n",
        "\n",
        "    def update(self, layer):\n",
        "        layer.w -= self.lr * layer.dw\n",
        "        layer.b -= self.lr * layer.db\n",
        "\n",
        "\n",
        "class Momentum:\n",
        "    def __init__(self, lr=0.01, beta=0.9):\n",
        "        self.lr = lr\n",
        "        self.beta = beta\n",
        "        self.v_w = {}\n",
        "        self.v_b = {}\n",
        "\n",
        "    def update(self, layer):\n",
        "        if layer not in self.v_w:\n",
        "            self.v_w[layer] = np.zeros_like(layer.w)\n",
        "            self.v_b[layer] = np.zeros_like(layer.b)\n",
        "        self.v_w[layer] = self.beta * self.v_w[layer] + (1 - self.beta) * layer.dw\n",
        "        self.v_b[layer] = self.beta * self.v_b[layer] + (1 - self.beta) * layer.db\n",
        "        layer.w -= self.lr * self.v_w[layer]\n",
        "        layer.b -= self.lr * self.v_b[layer]\n",
        "\n",
        "\n",
        "class Adam:\n",
        "    def __init__(self, lr=0.001, beta1=0.9, beta2=0.999, epsilon=1e-8):\n",
        "        self.lr = lr\n",
        "        self.beta1 = beta1\n",
        "        self.beta2 = beta2\n",
        "        self.epsilon = epsilon\n",
        "        self.m_w, self.v_w = {}, {}\n",
        "        self.m_b, self.v_b = {}, {}\n",
        "        self.t = {}\n",
        "\n",
        "    def update(self, layer):\n",
        "        if layer not in self.m_w:\n",
        "            self.m_w[layer] = np.zeros_like(layer.w)\n",
        "            self.v_w[layer] = np.zeros_like(layer.w)\n",
        "            self.m_b[layer] = np.zeros_like(layer.b)\n",
        "            self.v_b[layer] = np.zeros_like(layer.b)\n",
        "            self.t[layer] = 0\n",
        "\n",
        "        self.t[layer] += 1\n",
        "\n",
        "        self.m_w[layer] = self.beta1 * self.m_w[layer] + (1 - self.beta1) * layer.dw\n",
        "        self.v_w[layer] = self.beta2 * self.v_w[layer] + (1 - self.beta2) * (layer.dw ** 2)\n",
        "        self.m_b[layer] = self.beta1 * self.m_b[layer] + (1 - self.beta1) * layer.db\n",
        "        self.v_b[layer] = self.beta2 * self.v_b[layer] + (1 - self.beta2) * (layer.db ** 2)\n",
        "\n",
        "        m_w_hat = self.m_w[layer] / (1 - self.beta1 ** self.t[layer])\n",
        "        v_w_hat = self.v_w[layer] / (1 - self.beta2 ** self.t[layer])\n",
        "        m_b_hat = self.m_b[layer] / (1 - self.beta1 ** self.t[layer])\n",
        "        v_b_hat = self.v_b[layer] / (1 - self.beta2 ** self.t[layer])\n",
        "\n",
        "        layer.w -= self.lr * m_w_hat / (np.sqrt(v_w_hat) + self.epsilon)\n",
        "        layer.b -= self.lr * m_b_hat / (np.sqrt(v_b_hat) + self.epsilon)"
      ],
      "metadata": {
        "id": "opbKY-qmYFIg"
      },
      "execution_count": 7,
      "outputs": []
    },
    {
      "cell_type": "markdown",
      "source": [
        "### **Neural Network Class**"
      ],
      "metadata": {
        "id": "vUt1k4KjYlO-"
      }
    },
    {
      "cell_type": "code",
      "source": [
        "class NeuralNetwork:\n",
        "    def __init__(self, optimizer):\n",
        "        self.layers = []\n",
        "        self.optimizer = optimizer\n",
        "        self.loss_history = []\n",
        "        self.accuracy_history = []\n",
        "\n",
        "    def add(self, layer):\n",
        "        self.layers.append(layer)\n",
        "\n",
        "    def forward(self, x):\n",
        "        for layer in self.layers:\n",
        "            x = layer.forward(x)\n",
        "        return x\n",
        "\n",
        "    def compute_loss(self, y_true, y_pred):\n",
        "        epsilon = 1e-8\n",
        "        if y_true.shape[1] == 1:  # Binary classification\n",
        "            return -np.mean(y_true * np.log(y_pred + epsilon) + (1 - y_true) * np.log(1 - y_pred + epsilon))\n",
        "        else:  # Multi-class classification\n",
        "            return -np.mean(np.sum(y_true * np.log(y_pred + epsilon), axis=1))\n",
        "\n",
        "    def backward(self, y_true, y_pred):\n",
        "        if y_true.shape[1] == 1:  # Binary classification\n",
        "            dz = y_pred - y_true\n",
        "        else:  # Multi-class classification\n",
        "            dz = y_pred - y_true\n",
        "        gradient = dz\n",
        "\n",
        "        for layer in reversed(self.layers):\n",
        "            gradient = layer.backward(gradient)\n",
        "\n",
        "    def update_weights(self):\n",
        "        for layer in self.layers:\n",
        "            self.optimizer.update(layer)\n",
        "\n",
        "    def train(self, X, y, epochs=100, batch_size=64, verbose=True):\n",
        "        for epoch in range(epochs):\n",
        "            indices = np.arange(X.shape[0])\n",
        "            np.random.shuffle(indices)\n",
        "            X_shuffled = X[indices]\n",
        "            y_shuffled = y[indices]\n",
        "\n",
        "            epoch_loss = []\n",
        "\n",
        "            for i in range(0, X.shape[0], batch_size):\n",
        "                x_batch = X_shuffled[i:i+batch_size]\n",
        "                y_batch = y_shuffled[i:i+batch_size]\n",
        "\n",
        "                output = self.forward(x_batch)\n",
        "                loss = self.compute_loss(y_batch, output)\n",
        "                epoch_loss.append(loss)\n",
        "\n",
        "                self.backward(y_batch, output)\n",
        "                self.update_weights()\n",
        "\n",
        "            # ذخیره‌سازی\n",
        "            loss_value = np.mean(epoch_loss)\n",
        "            accuracy = self.evaluate_accuracy(X, y)\n",
        "\n",
        "            self.loss_history.append(loss_value)\n",
        "            self.accuracy_history.append(accuracy)\n",
        "\n",
        "            if verbose and epoch % 10 == 0:\n",
        "                print(f\"Epoch {epoch}: Loss = {loss_value:.4f}, Accuracy = {accuracy:.4f}\")\n",
        "\n",
        "\n",
        "    def predict(self, X):\n",
        "        y_pred = self.forward(X)\n",
        "        if y_pred.shape[1] == 1:\n",
        "            return (y_pred >= 0.5).astype(int)\n",
        "        else:\n",
        "            return np.argmax(y_pred, axis=1)\n",
        "\n",
        "    def evaluate_accuracy(self, X, y):\n",
        "        y_pred = self.predict(X)\n",
        "        if y.shape[1] == 1:\n",
        "            y_true = y\n",
        "            return np.mean(y_pred == y_true)\n",
        "        else:\n",
        "            y_true = np.argmax(y, axis=1)\n",
        "            return np.mean(y_pred == y_true)"
      ],
      "metadata": {
        "id": "aPhxZSNXZaJF"
      },
      "execution_count": 8,
      "outputs": []
    },
    {
      "cell_type": "markdown",
      "source": [
        "### **Plot Metrics**"
      ],
      "metadata": {
        "id": "kiPRKG_CoX6G"
      }
    },
    {
      "cell_type": "code",
      "source": [
        "def plot_metrics(nn):\n",
        "    plt.figure(figsize=(12, 5))\n",
        "\n",
        "    # Plot loss\n",
        "    plt.subplot(1, 2, 1)\n",
        "    plt.plot(nn.loss_history, label=\"Loss\")\n",
        "    plt.title(\"Training Loss\")\n",
        "    plt.xlabel(\"Epoch\")\n",
        "    plt.ylabel(\"Loss\")\n",
        "    plt.grid(True)\n",
        "    plt.legend()\n",
        "\n",
        "    # Plot accuracy\n",
        "    plt.subplot(1, 2, 2)\n",
        "    plt.plot(nn.accuracy_history, label=\"Accuracy\", color='green')\n",
        "    plt.title(\"Training Accuracy\")\n",
        "    plt.xlabel(\"Epoch\")\n",
        "    plt.ylabel(\"Accuracy\")\n",
        "    plt.grid(True)\n",
        "    plt.legend()\n",
        "\n",
        "    plt.tight_layout()\n",
        "    plt.show()"
      ],
      "metadata": {
        "id": "mIS_z3e2oYOk"
      },
      "execution_count": 9,
      "outputs": []
    },
    {
      "cell_type": "markdown",
      "source": [
        "## **Main**"
      ],
      "metadata": {
        "id": "lCB8BxpedYJt"
      }
    },
    {
      "cell_type": "code",
      "source": [
        "optimizer = Momentum(lr=0.05)\n",
        "nn = NeuralNetwork(optimizer=optimizer)\n",
        "\n",
        "nn.add(DenseLayer(3072, 64, activation='sigmoid'))\n",
        "nn.add(DenseLayer(64, 10, activation='softmax'))\n",
        "\n",
        "nn.train(X_train, y_train, epochs=1000, batch_size=64)\n",
        "predictions = nn.predict(X_test)"
      ],
      "metadata": {
        "colab": {
          "base_uri": "https://localhost:8080/"
        },
        "id": "4uPKRCSOdYZo",
        "outputId": "9e35e712-3084-493f-b79a-8329aca8338e"
      },
      "execution_count": 10,
      "outputs": [
        {
          "output_type": "stream",
          "name": "stdout",
          "text": [
            "Epoch 0: Loss = 2.1709, Accuracy = 0.2436\n",
            "Epoch 10: Loss = 1.6022, Accuracy = 0.4302\n",
            "Epoch 20: Loss = 1.4635, Accuracy = 0.4962\n",
            "Epoch 30: Loss = 1.3782, Accuracy = 0.5217\n",
            "Epoch 40: Loss = 1.3217, Accuracy = 0.5428\n",
            "Epoch 50: Loss = 1.2726, Accuracy = 0.5513\n",
            "Epoch 60: Loss = 1.2341, Accuracy = 0.5674\n",
            "Epoch 70: Loss = 1.2017, Accuracy = 0.5747\n",
            "Epoch 80: Loss = 1.1724, Accuracy = 0.5937\n",
            "Epoch 90: Loss = 1.1425, Accuracy = 0.6014\n",
            "Epoch 100: Loss = 1.1154, Accuracy = 0.6167\n",
            "Epoch 110: Loss = 1.0896, Accuracy = 0.6200\n",
            "Epoch 120: Loss = 1.0683, Accuracy = 0.6299\n",
            "Epoch 130: Loss = 1.0495, Accuracy = 0.6434\n",
            "Epoch 140: Loss = 1.0316, Accuracy = 0.6453\n",
            "Epoch 150: Loss = 1.0137, Accuracy = 0.6429\n",
            "Epoch 160: Loss = 0.9902, Accuracy = 0.6681\n",
            "Epoch 170: Loss = 0.9732, Accuracy = 0.6625\n",
            "Epoch 180: Loss = 0.9603, Accuracy = 0.6716\n",
            "Epoch 190: Loss = 0.9453, Accuracy = 0.6753\n",
            "Epoch 200: Loss = 0.9218, Accuracy = 0.6824\n",
            "Epoch 210: Loss = 0.9111, Accuracy = 0.6903\n",
            "Epoch 220: Loss = 0.9018, Accuracy = 0.6858\n",
            "Epoch 230: Loss = 0.8808, Accuracy = 0.6987\n",
            "Epoch 240: Loss = 0.8672, Accuracy = 0.6933\n",
            "Epoch 250: Loss = 0.8609, Accuracy = 0.7057\n",
            "Epoch 260: Loss = 0.8444, Accuracy = 0.7077\n",
            "Epoch 270: Loss = 0.8327, Accuracy = 0.7182\n",
            "Epoch 280: Loss = 0.8237, Accuracy = 0.7131\n",
            "Epoch 290: Loss = 0.8082, Accuracy = 0.7353\n",
            "Epoch 300: Loss = 0.8018, Accuracy = 0.7237\n",
            "Epoch 310: Loss = 0.7904, Accuracy = 0.7439\n",
            "Epoch 320: Loss = 0.7802, Accuracy = 0.7418\n",
            "Epoch 330: Loss = 0.7703, Accuracy = 0.7316\n",
            "Epoch 340: Loss = 0.7556, Accuracy = 0.7334\n",
            "Epoch 350: Loss = 0.7436, Accuracy = 0.7469\n",
            "Epoch 360: Loss = 0.7416, Accuracy = 0.7393\n",
            "Epoch 370: Loss = 0.7290, Accuracy = 0.7465\n",
            "Epoch 380: Loss = 0.7200, Accuracy = 0.7643\n",
            "Epoch 390: Loss = 0.7071, Accuracy = 0.7370\n",
            "Epoch 400: Loss = 0.6987, Accuracy = 0.7649\n",
            "Epoch 410: Loss = 0.6956, Accuracy = 0.7614\n",
            "Epoch 420: Loss = 0.6801, Accuracy = 0.7792\n",
            "Epoch 430: Loss = 0.6857, Accuracy = 0.7789\n",
            "Epoch 440: Loss = 0.6690, Accuracy = 0.7567\n",
            "Epoch 450: Loss = 0.6595, Accuracy = 0.7587\n",
            "Epoch 460: Loss = 0.6555, Accuracy = 0.7901\n",
            "Epoch 470: Loss = 0.6416, Accuracy = 0.7743\n",
            "Epoch 480: Loss = 0.6321, Accuracy = 0.7855\n",
            "Epoch 490: Loss = 0.6291, Accuracy = 0.7889\n",
            "Epoch 500: Loss = 0.6118, Accuracy = 0.8057\n",
            "Epoch 510: Loss = 0.6124, Accuracy = 0.8051\n",
            "Epoch 520: Loss = 0.6013, Accuracy = 0.7977\n",
            "Epoch 530: Loss = 0.5928, Accuracy = 0.8012\n",
            "Epoch 540: Loss = 0.5907, Accuracy = 0.8019\n",
            "Epoch 550: Loss = 0.5765, Accuracy = 0.8026\n",
            "Epoch 560: Loss = 0.5731, Accuracy = 0.8166\n",
            "Epoch 570: Loss = 0.5744, Accuracy = 0.7783\n",
            "Epoch 580: Loss = 0.5692, Accuracy = 0.8154\n",
            "Epoch 590: Loss = 0.5627, Accuracy = 0.8177\n",
            "Epoch 600: Loss = 0.5532, Accuracy = 0.8149\n",
            "Epoch 610: Loss = 0.5412, Accuracy = 0.8263\n",
            "Epoch 620: Loss = 0.5361, Accuracy = 0.8389\n",
            "Epoch 630: Loss = 0.5279, Accuracy = 0.8236\n",
            "Epoch 640: Loss = 0.5339, Accuracy = 0.8122\n",
            "Epoch 650: Loss = 0.5201, Accuracy = 0.8380\n",
            "Epoch 660: Loss = 0.5099, Accuracy = 0.8385\n",
            "Epoch 670: Loss = 0.5065, Accuracy = 0.8141\n",
            "Epoch 680: Loss = 0.5010, Accuracy = 0.8371\n",
            "Epoch 690: Loss = 0.5010, Accuracy = 0.8376\n",
            "Epoch 700: Loss = 0.4877, Accuracy = 0.8503\n",
            "Epoch 710: Loss = 0.4857, Accuracy = 0.8514\n",
            "Epoch 720: Loss = 0.4785, Accuracy = 0.8349\n",
            "Epoch 730: Loss = 0.4802, Accuracy = 0.8522\n",
            "Epoch 740: Loss = 0.4752, Accuracy = 0.8590\n",
            "Epoch 750: Loss = 0.4628, Accuracy = 0.8512\n",
            "Epoch 760: Loss = 0.4592, Accuracy = 0.8566\n",
            "Epoch 770: Loss = 0.4511, Accuracy = 0.8636\n",
            "Epoch 780: Loss = 0.4496, Accuracy = 0.8399\n",
            "Epoch 790: Loss = 0.4396, Accuracy = 0.8355\n",
            "Epoch 800: Loss = 0.4422, Accuracy = 0.8659\n",
            "Epoch 810: Loss = 0.4343, Accuracy = 0.8579\n",
            "Epoch 820: Loss = 0.4294, Accuracy = 0.8672\n",
            "Epoch 830: Loss = 0.4217, Accuracy = 0.8504\n",
            "Epoch 840: Loss = 0.4175, Accuracy = 0.8724\n",
            "Epoch 850: Loss = 0.4122, Accuracy = 0.8375\n",
            "Epoch 860: Loss = 0.4126, Accuracy = 0.8606\n",
            "Epoch 870: Loss = 0.4002, Accuracy = 0.8536\n",
            "Epoch 880: Loss = 0.4001, Accuracy = 0.8789\n",
            "Epoch 890: Loss = 0.3896, Accuracy = 0.8553\n",
            "Epoch 900: Loss = 0.3863, Accuracy = 0.8707\n",
            "Epoch 910: Loss = 0.3872, Accuracy = 0.8659\n",
            "Epoch 920: Loss = 0.3823, Accuracy = 0.8882\n",
            "Epoch 930: Loss = 0.3801, Accuracy = 0.8456\n",
            "Epoch 940: Loss = 0.3718, Accuracy = 0.8570\n",
            "Epoch 950: Loss = 0.3673, Accuracy = 0.8661\n",
            "Epoch 960: Loss = 0.3607, Accuracy = 0.8965\n",
            "Epoch 970: Loss = 0.3573, Accuracy = 0.8800\n",
            "Epoch 980: Loss = 0.3623, Accuracy = 0.8983\n",
            "Epoch 990: Loss = 0.3531, Accuracy = 0.8817\n"
          ]
        }
      ]
    },
    {
      "cell_type": "markdown",
      "source": [
        "## **Model Training Analysis**"
      ],
      "metadata": {
        "id": "IJsEAa0ao2N0"
      }
    },
    {
      "cell_type": "code",
      "source": [
        "plot_metrics(nn)"
      ],
      "metadata": {
        "colab": {
          "base_uri": "https://localhost:8080/",
          "height": 507
        },
        "id": "xd5EjY1Ao2d_",
        "outputId": "e5051e1e-9863-49da-ad1c-63c6c1742346"
      },
      "execution_count": 11,
      "outputs": [
        {
          "output_type": "display_data",
          "data": {
            "text/plain": [
              "<Figure size 1200x500 with 2 Axes>"
            ],
            "image/png": "[encoded data removed]"
          },
          "metadata": {}
        }
      ]
    }
  ]
}