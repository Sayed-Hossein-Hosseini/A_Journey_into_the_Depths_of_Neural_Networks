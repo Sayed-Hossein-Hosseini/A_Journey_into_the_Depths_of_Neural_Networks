{
  "nbformat": 4,
  "nbformat_minor": 0,
  "metadata": {
    "colab": {
      "provenance": [],
      "gpuType": "T4",
      "authorship_tag": "ABX9TyNNGiniROmLnYv7cJUlLn9b",
      "include_colab_link": true
    },
    "kernelspec": {
      "name": "python3",
      "display_name": "Python 3"
    },
    "language_info": {
      "name": "python"
    },
    "accelerator": "GPU"
  },
  "cells": [
    {
      "cell_type": "markdown",
      "metadata": {
        "id": "view-in-github",
        "colab_type": "text"
      },
      "source": [
        "<a href=\"https://colab.research.google.com/github/Sayed-Hossein-Hosseini/A_Journey_into_the_Depths_of_Neural_Networks/blob/master/Entering_the_World_of_Deep_Neural_Networks_CNN.ipynb\" target=\"_parent\"><img src=\"https://colab.research.google.com/assets/colab-badge.svg\" alt=\"Open In Colab\"/></a>"
      ]
    },
    {
      "cell_type": "markdown",
      "source": [
        "# **Entering the World of Deep Neural Networks CNN**"
      ],
      "metadata": {
        "id": "RnniLMx77cZh"
      }
    },
    {
      "cell_type": "markdown",
      "source": [
        "## **Libraries**"
      ],
      "metadata": {
        "id": "Be4h7rum7j2U"
      }
    },
    {
      "cell_type": "code",
      "execution_count": 1,
      "metadata": {
        "id": "uEFxlinH7Rxm"
      },
      "outputs": [],
      "source": [
        "import torch\n",
        "import torch.nn as nn\n",
        "import torch.optim as optim\n",
        "import torchvision\n",
        "import torchvision.transforms as transforms\n",
        "import matplotlib.pyplot as plt\n",
        "import numpy as np"
      ]
    },
    {
      "cell_type": "markdown",
      "source": [
        "## **GPU**"
      ],
      "metadata": {
        "id": "g97QeJdBBsyN"
      }
    },
    {
      "cell_type": "code",
      "source": [
        "#0. Check GPU availability and device setup\n",
        "device = torch.device(\"cuda\" if torch.cuda.is_available() else \"cpu\")\n",
        "print(f\"Using device: {device}\")"
      ],
      "metadata": {
        "colab": {
          "base_uri": "https://localhost:8080/"
        },
        "id": "ZSCxzls8Btiy",
        "outputId": "a36086b9-7c50-4670-b23e-cdb448c1d07c"
      },
      "execution_count": 2,
      "outputs": [
        {
          "output_type": "stream",
          "name": "stdout",
          "text": [
            "Using device: cuda\n"
          ]
        }
      ]
    },
    {
      "cell_type": "markdown",
      "source": [
        "## **Hyperparameters**"
      ],
      "metadata": {
        "id": "j6cfu0Q-C6wW"
      }
    },
    {
      "cell_type": "code",
      "source": [
        "#1. Hyperparameters\n",
        "NUM_EPOCHS = 1000\n",
        "BATCH_SIZE = 64\n",
        "LEARNING_RATE = 0.05"
      ],
      "metadata": {
        "id": "P1mLnFQmC8Rd"
      },
      "execution_count": 3,
      "outputs": []
    },
    {
      "cell_type": "markdown",
      "source": [
        "## **CIFAR-10 Data Preparation**"
      ],
      "metadata": {
        "id": "W0i9xWNXDehR"
      }
    },
    {
      "cell_type": "markdown",
      "source": [
        "### **Preprocessing**"
      ],
      "metadata": {
        "id": "xHmUkhhJD8L8"
      }
    },
    {
      "cell_type": "code",
      "source": [
        "# Transformations: Tensor Conversion and Normalization\n",
        "# Mean and Standard Deviation Values ​​for CIFAR-10 (Standard)\n",
        "transform = transforms.Compose([\n",
        "    transforms.ToTensor(),\n",
        "    transforms.Normalize((0.4914, 0.4822, 0.4465), (0.2023, 0.1994, 0.2010)) # مقادیر دقیق‌تر\n",
        "    # transforms.Normalize((0.5, 0.5, 0.5), (0.5, 0.5, 0.5)) # ساده‌تر، برای نرمال‌سازی به بازه [-1, 1]\n",
        "])"
      ],
      "metadata": {
        "id": "7MOYK0--Deu6"
      },
      "execution_count": 4,
      "outputs": []
    },
    {
      "cell_type": "markdown",
      "source": [
        "### **Download and Load the Training Dataset**"
      ],
      "metadata": {
        "id": "Z6u5_PFOG1Nn"
      }
    },
    {
      "cell_type": "code",
      "source": [
        "# Download and load training dataset\n",
        "train_dataset = torchvision.datasets.CIFAR10(root='./data', train=True, download=True, transform=transform)\n",
        "train_loader = torch.utils.data.DataLoader(train_dataset, batch_size=BATCH_SIZE, shuffle=True, num_workers=2)"
      ],
      "metadata": {
        "colab": {
          "base_uri": "https://localhost:8080/"
        },
        "id": "9exFrp0WE8-Q",
        "outputId": "9f87ef0d-b2dc-4500-d4f6-879ce98b999b"
      },
      "execution_count": 5,
      "outputs": [
        {
          "output_type": "stream",
          "name": "stderr",
          "text": [
            "100%|██████████| 170M/170M [00:13<00:00, 12.9MB/s]\n"
          ]
        }
      ]
    },
    {
      "cell_type": "markdown",
      "source": [
        "### **Download and Load the Test Dataset**"
      ],
      "metadata": {
        "id": "mXaa-Wp7GulL"
      }
    },
    {
      "cell_type": "code",
      "source": [
        "# Download and load the test dataset\n",
        "test_dataset = torchvision.datasets.CIFAR10(root='./data', train=False, download=True, transform=transform)\n",
        "test_loader = torch.utils.data.DataLoader(test_dataset, batch_size=BATCH_SIZE, shuffle=False, num_workers=2)"
      ],
      "metadata": {
        "id": "-zQUXMgKGU7v"
      },
      "execution_count": 7,
      "outputs": []
    },
    {
      "cell_type": "markdown",
      "source": [
        "### **CIFAR-10 Classes**"
      ],
      "metadata": {
        "id": "B1HfHxu9Hpjx"
      }
    },
    {
      "cell_type": "code",
      "source": [
        "# CIFAR-10 classes\n",
        "classes = ('plane', 'car', 'bird', 'cat', 'deer', 'dog', 'frog', 'horse', 'ship', 'truck')"
      ],
      "metadata": {
        "id": "5TTNCtqgHpwq"
      },
      "execution_count": 8,
      "outputs": []
    }
  ]
}