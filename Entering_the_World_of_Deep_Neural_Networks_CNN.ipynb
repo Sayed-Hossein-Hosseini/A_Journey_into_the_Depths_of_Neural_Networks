{
  "nbformat": 4,
  "nbformat_minor": 0,
  "metadata": {
    "colab": {
      "provenance": [],
      "gpuType": "T4",
      "authorship_tag": "ABX9TyMms8V7RF8k8+Ur4149SJXG",
      "include_colab_link": true
    },
    "kernelspec": {
      "name": "python3",
      "display_name": "Python 3"
    },
    "language_info": {
      "name": "python"
    },
    "accelerator": "GPU"
  },
  "cells": [
    {
      "cell_type": "markdown",
      "metadata": {
        "id": "view-in-github",
        "colab_type": "text"
      },
      "source": [
        "<a href=\"https://colab.research.google.com/github/Sayed-Hossein-Hosseini/A_Journey_into_the_Depths_of_Neural_Networks/blob/master/Entering_the_World_of_Deep_Neural_Networks_CNN.ipynb\" target=\"_parent\"><img src=\"https://colab.research.google.com/assets/colab-badge.svg\" alt=\"Open In Colab\"/></a>"
      ]
    },
    {
      "cell_type": "markdown",
      "source": [
        "# **Entering the World of Deep Neural Networks CNN**"
      ],
      "metadata": {
        "id": "RnniLMx77cZh"
      }
    },
    {
      "cell_type": "markdown",
      "source": [
        "## **Libraries**"
      ],
      "metadata": {
        "id": "Be4h7rum7j2U"
      }
    },
    {
      "cell_type": "code",
      "execution_count": 2,
      "metadata": {
        "id": "uEFxlinH7Rxm"
      },
      "outputs": [],
      "source": [
        "import torch\n",
        "import torch.nn as nn\n",
        "import torch.optim as optim\n",
        "import torchvision\n",
        "import torchvision.transforms as transforms\n",
        "import matplotlib.pyplot as plt\n",
        "import numpy as np"
      ]
    },
    {
      "cell_type": "markdown",
      "source": [
        "## **GPU**"
      ],
      "metadata": {
        "id": "g97QeJdBBsyN"
      }
    },
    {
      "cell_type": "code",
      "source": [
        "#0. Check GPU availability and device setup\n",
        "device = torch.device(\"cuda\" if torch.cuda.is_available() else \"cpu\")\n",
        "print(f\"Using device: {device}\")"
      ],
      "metadata": {
        "colab": {
          "base_uri": "https://localhost:8080/"
        },
        "id": "ZSCxzls8Btiy",
        "outputId": "f4b585f4-a599-4278-88ae-23116a9a6387"
      },
      "execution_count": 3,
      "outputs": [
        {
          "output_type": "stream",
          "name": "stdout",
          "text": [
            "Using device: cuda\n"
          ]
        }
      ]
    },
    {
      "cell_type": "markdown",
      "source": [
        "## **Hyperparameters**"
      ],
      "metadata": {
        "id": "j6cfu0Q-C6wW"
      }
    },
    {
      "cell_type": "code",
      "source": [
        "#1. Hyperparameters\n",
        "NUM_EPOCHS = 1000\n",
        "BATCH_SIZE = 64\n",
        "LEARNING_RATE = 0.05"
      ],
      "metadata": {
        "id": "P1mLnFQmC8Rd"
      },
      "execution_count": 4,
      "outputs": []
    }
  ]
}