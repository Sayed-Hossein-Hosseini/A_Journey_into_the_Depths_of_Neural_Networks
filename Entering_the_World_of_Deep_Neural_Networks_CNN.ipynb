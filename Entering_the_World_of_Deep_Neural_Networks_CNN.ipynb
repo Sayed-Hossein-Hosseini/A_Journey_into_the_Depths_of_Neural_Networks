{
  "nbformat": 4,
  "nbformat_minor": 0,
  "metadata": {
    "colab": {
      "provenance": [],
      "gpuType": "T4",
      "authorship_tag": "ABX9TyPLZK70KR1DPbqsFxUG1kLT",
      "include_colab_link": true
    },
    "kernelspec": {
      "name": "python3",
      "display_name": "Python 3"
    },
    "language_info": {
      "name": "python"
    },
    "accelerator": "GPU"
  },
  "cells": [
    {
      "cell_type": "markdown",
      "metadata": {
        "id": "view-in-github",
        "colab_type": "text"
      },
      "source": [
        "<a href=\"https://colab.research.google.com/github/Sayed-Hossein-Hosseini/A_Journey_into_the_Depths_of_Neural_Networks/blob/master/Entering_the_World_of_Deep_Neural_Networks_CNN.ipynb\" target=\"_parent\"><img src=\"https://colab.research.google.com/assets/colab-badge.svg\" alt=\"Open In Colab\"/></a>"
      ]
    },
    {
      "cell_type": "markdown",
      "source": [
        "# **Entering the World of Deep Neural Networks CNN**"
      ],
      "metadata": {
        "id": "RnniLMx77cZh"
      }
    },
    {
      "cell_type": "markdown",
      "source": [
        "## **Libraries**"
      ],
      "metadata": {
        "id": "Be4h7rum7j2U"
      }
    },
    {
      "cell_type": "code",
      "execution_count": 1,
      "metadata": {
        "id": "uEFxlinH7Rxm"
      },
      "outputs": [],
      "source": [
        "import torch\n",
        "import torch.nn as nn\n",
        "import torch.optim as optim\n",
        "import torchvision\n",
        "import torchvision.transforms as transforms\n",
        "import matplotlib.pyplot as plt\n",
        "import numpy as np"
      ]
    },
    {
      "cell_type": "markdown",
      "source": [
        "## **GPU**"
      ],
      "metadata": {
        "id": "g97QeJdBBsyN"
      }
    },
    {
      "cell_type": "code",
      "source": [
        "#0. Check GPU availability and device setup\n",
        "device = torch.device(\"cuda\" if torch.cuda.is_available() else \"cpu\")\n",
        "print(f\"Using device: {device}\")"
      ],
      "metadata": {
        "colab": {
          "base_uri": "https://localhost:8080/"
        },
        "id": "ZSCxzls8Btiy",
        "outputId": "a36086b9-7c50-4670-b23e-cdb448c1d07c"
      },
      "execution_count": 2,
      "outputs": [
        {
          "output_type": "stream",
          "name": "stdout",
          "text": [
            "Using device: cuda\n"
          ]
        }
      ]
    },
    {
      "cell_type": "markdown",
      "source": [
        "## **Hyperparameters**"
      ],
      "metadata": {
        "id": "j6cfu0Q-C6wW"
      }
    },
    {
      "cell_type": "code",
      "source": [
        "#1. Hyperparameters\n",
        "NUM_EPOCHS = 1000\n",
        "BATCH_SIZE = 64\n",
        "LEARNING_RATE = 0.05"
      ],
      "metadata": {
        "id": "P1mLnFQmC8Rd"
      },
      "execution_count": 3,
      "outputs": []
    },
    {
      "cell_type": "markdown",
      "source": [
        "## **CIFAR-10 Data Preparation**"
      ],
      "metadata": {
        "id": "W0i9xWNXDehR"
      }
    },
    {
      "cell_type": "markdown",
      "source": [
        "### **Preprocessing**"
      ],
      "metadata": {
        "id": "xHmUkhhJD8L8"
      }
    },
    {
      "cell_type": "code",
      "source": [
        "# Transformations: Tensor Conversion and Normalization\n",
        "# Mean and Standard Deviation Values ​​for CIFAR-10 (Standard)\n",
        "transform = transforms.Compose([\n",
        "    transforms.ToTensor(),\n",
        "    transforms.Normalize((0.4914, 0.4822, 0.4465), (0.2023, 0.1994, 0.2010)) # مقادیر دقیق‌تر\n",
        "    # transforms.Normalize((0.5, 0.5, 0.5), (0.5, 0.5, 0.5)) # ساده‌تر، برای نرمال‌سازی به بازه [-1, 1]\n",
        "])"
      ],
      "metadata": {
        "id": "7MOYK0--Deu6"
      },
      "execution_count": 4,
      "outputs": []
    },
    {
      "cell_type": "markdown",
      "source": [
        "### **Download and Load the Training Dataset**"
      ],
      "metadata": {
        "id": "Z6u5_PFOG1Nn"
      }
    },
    {
      "cell_type": "code",
      "source": [
        "# Download and load training dataset\n",
        "train_dataset = torchvision.datasets.CIFAR10(root='./data', train=True, download=True, transform=transform)\n",
        "train_loader = torch.utils.data.DataLoader(train_dataset, batch_size=BATCH_SIZE, shuffle=True, num_workers=2)"
      ],
      "metadata": {
        "colab": {
          "base_uri": "https://localhost:8080/"
        },
        "id": "9exFrp0WE8-Q",
        "outputId": "9f87ef0d-b2dc-4500-d4f6-879ce98b999b"
      },
      "execution_count": 5,
      "outputs": [
        {
          "output_type": "stream",
          "name": "stderr",
          "text": [
            "100%|██████████| 170M/170M [00:13<00:00, 12.9MB/s]\n"
          ]
        }
      ]
    },
    {
      "cell_type": "markdown",
      "source": [
        "### **Download and Load the Test Dataset**"
      ],
      "metadata": {
        "id": "mXaa-Wp7GulL"
      }
    },
    {
      "cell_type": "code",
      "source": [
        "# Download and load the test dataset\n",
        "test_dataset = torchvision.datasets.CIFAR10(root='./data', train=False, download=True, transform=transform)\n",
        "test_loader = torch.utils.data.DataLoader(test_dataset, batch_size=BATCH_SIZE, shuffle=False, num_workers=2)"
      ],
      "metadata": {
        "id": "-zQUXMgKGU7v"
      },
      "execution_count": 7,
      "outputs": []
    },
    {
      "cell_type": "markdown",
      "source": [
        "### **CIFAR-10 Classes**"
      ],
      "metadata": {
        "id": "B1HfHxu9Hpjx"
      }
    },
    {
      "cell_type": "code",
      "source": [
        "# CIFAR-10 classes\n",
        "classes = ('plane', 'car', 'bird', 'cat', 'deer', 'dog', 'frog', 'horse', 'ship', 'truck')"
      ],
      "metadata": {
        "id": "5TTNCtqgHpwq"
      },
      "execution_count": 8,
      "outputs": []
    },
    {
      "cell_type": "markdown",
      "source": [
        "### **Display Images**"
      ],
      "metadata": {
        "id": "evrMK1SvIDMR"
      }
    },
    {
      "cell_type": "code",
      "source": [
        "# Function to display images\n",
        "def imshow(img):\n",
        "    img = img / 2 + 0.5     # unnormalize if normalized to [-1,1]\n",
        "    mean = np.array([0.4914, 0.4822, 0.4465])\n",
        "    std = np.array([0.2023, 0.1994, 0.2010])\n",
        "    img = img * std[:, None, None] + mean[:, None, None]\n",
        "    npimg = img.numpy()\n",
        "    plt.imshow(np.transpose(npimg, (1, 2, 0)))\n",
        "    plt.show()\n",
        "\n",
        "# Show some random educational images\n",
        "dataiter = iter(train_loader)\n",
        "images, labels = next(dataiter)\n",
        "imshow(torchvision.utils.make_grid(images[:4]))\n",
        "print(' '.join(f'{classes[labels[j]]:5s}' for j in range(4)))"
      ],
      "metadata": {
        "colab": {
          "base_uri": "https://localhost:8080/",
          "height": 245
        },
        "id": "AkZyS73_IDYr",
        "outputId": "3b43a2ce-11d5-4a05-d208-373f43c7459b"
      },
      "execution_count": 15,
      "outputs": [
        {
          "output_type": "stream",
          "name": "stderr",
          "text": [
            "<ipython-input-15-d47584482e73>:7: DeprecationWarning: __array_wrap__ must accept context and return_scalar arguments (positionally) in the future. (Deprecated NumPy 2.0)\n",
            "  img = img * std[:, None, None] + mean[:, None, None]\n"
          ]
        },
        {
          "output_type": "display_data",
          "data": {
            "text/plain": [
              "<Figure size 640x480 with 1 Axes>"
            ],
            "image/png": "[encoded data removed]"
          },
          "metadata": {}
        },
        {
          "output_type": "stream",
          "name": "stdout",
          "text": [
            "car   dog   truck dog  \n"
          ]
        }
      ]
    },
    {
      "cell_type": "markdown",
      "source": [
        "## **CNN Model Definition**"
      ],
      "metadata": {
        "id": "dYAFaQEvJErz"
      }
    },
    {
      "cell_type": "code",
      "source": [
        "class CNN(nn.Module):\n",
        "    def __init__(self, num_classes=10):\n",
        "        super(CNN, self).__init__()\n",
        "        # Input: 3x32x32 (channels, height, width)\n",
        "\n",
        "        # First convolutional layer: 32 filters, kernel size 3x3, ReLU activation\n",
        "        # Output with padding=1: 32x32x32\n",
        "        self.conv1 = nn.Conv2d(in_channels=3, out_channels=32, kernel_size=3, padding=1)\n",
        "        self.relu1 = nn.ReLU()\n",
        "\n",
        "        # First Max Pooling layer: pool size 2x2\n",
        "        # Output: 32x16x16\n",
        "        self.pool1 = nn.MaxPool2d(kernel_size=2, stride=2)\n",
        "\n",
        "        # Second convolutional layer: 64 filters, kernel size 3x3, ReLU activation\n",
        "        # Output with padding=1: 64x16x16\n",
        "        self.conv2 = nn.Conv2d(in_channels=32, out_channels=64, kernel_size=3, padding=1)\n",
        "        self.relu2 = nn.ReLU()\n",
        "\n",
        "        # Second Max Pooling layer: pool size 2x2\n",
        "        # Output: 64x8x8\n",
        "        self.pool2 = nn.MaxPool2d(kernel_size=2, stride=2)\n",
        "\n",
        "        # Flatten layer\n",
        "        # Flattened input dimensions: 64 * 8 * 8 = 4096\n",
        "        self.flatten = nn.Flatten()\n",
        "\n",
        "        # First Fully Connected layer: 128 neurons, ReLU activation\n",
        "        self.fc1 = nn.Linear(64 * 8 * 8, 128)\n",
        "        self.relu3 = nn.ReLU()\n",
        "\n",
        "        # Second Fully Connected layer (output layer): 10 neurons, Softmax activation\n",
        "        # Note: nn.CrossEntropyLoss combines LogSoftmax and NLLLoss internally.\n",
        "        # Therefore, if you use nn.CrossEntropyLoss, you don't need a separate Softmax layer.\n",
        "        # But if you want the output to be probabilities (e.g., for inference) or use NLLLoss, LogSoftmax is more suitable.\n",
        "        # If specifically Softmax is required, it can be applied in the forward method.\n",
        "        self.fc2 = nn.Linear(128, num_classes)\n",
        "        # self.softmax = nn.Softmax(dim=1)  # or nn.LogSoftmax(dim=1)\n",
        "\n",
        "    def forward(self, x):\n",
        "        x = self.conv1(x)\n",
        "        x = self.relu1(x)\n",
        "        x = self.pool1(x)\n",
        "\n",
        "        x = self.conv2(x)\n",
        "        x = self.relu2(x)\n",
        "        x = self.pool2(x)\n",
        "\n",
        "        x = self.flatten(x)  # or x = x.view(-1, 64 * 8 * 8)\n",
        "\n",
        "        x = self.fc1(x)\n",
        "        x = self.relu3(x)\n",
        "\n",
        "        x = self.fc2(x)\n",
        "        # If we want the output to be probabilities directly:\n",
        "        # x = self.softmax(x)  # Typically used during inference, not during training with CrossEntropyLoss\n",
        "        # Or if using NLLLoss:\n",
        "        # x = F.log_softmax(x, dim=1)\n",
        "        return x\n",
        "\n",
        "model = CNN(num_classes=len(classes)).to(device)\n",
        "print(model)"
      ],
      "metadata": {
        "colab": {
          "base_uri": "https://localhost:8080/"
        },
        "id": "syK4zk11JME7",
        "outputId": "41d0ca81-1be4-4c78-f344-a9671377c783"
      },
      "execution_count": 16,
      "outputs": [
        {
          "output_type": "stream",
          "name": "stdout",
          "text": [
            "CNN(\n",
            "  (conv1): Conv2d(3, 32, kernel_size=(3, 3), stride=(1, 1), padding=(1, 1))\n",
            "  (relu1): ReLU()\n",
            "  (pool1): MaxPool2d(kernel_size=2, stride=2, padding=0, dilation=1, ceil_mode=False)\n",
            "  (conv2): Conv2d(32, 64, kernel_size=(3, 3), stride=(1, 1), padding=(1, 1))\n",
            "  (relu2): ReLU()\n",
            "  (pool2): MaxPool2d(kernel_size=2, stride=2, padding=0, dilation=1, ceil_mode=False)\n",
            "  (flatten): Flatten(start_dim=1, end_dim=-1)\n",
            "  (fc1): Linear(in_features=4096, out_features=128, bias=True)\n",
            "  (relu3): ReLU()\n",
            "  (fc2): Linear(in_features=128, out_features=10, bias=True)\n",
            ")\n"
          ]
        }
      ]
    }
  ]
}