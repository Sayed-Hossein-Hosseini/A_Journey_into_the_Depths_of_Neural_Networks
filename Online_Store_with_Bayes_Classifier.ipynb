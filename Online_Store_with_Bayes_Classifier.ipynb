{
  "nbformat": 4,
  "nbformat_minor": 0,
  "metadata": {
    "colab": {
      "provenance": [],
      "authorship_tag": "ABX9TyPyG/RMCWm0VtCMAWVgbFi9",
      "include_colab_link": true
    },
    "kernelspec": {
      "name": "python3",
      "display_name": "Python 3"
    },
    "language_info": {
      "name": "python"
    }
  },
  "cells": [
    {
      "cell_type": "markdown",
      "metadata": {
        "id": "view-in-github",
        "colab_type": "text"
      },
      "source": [
        "<a href=\"https://colab.research.google.com/github/Sayed-Hossein-Hosseini/A_Journey_into_the_Depths_of_Neural_Networks/blob/master/Online_Store_with_Bayes_Classifier.ipynb\" target=\"_parent\"><img src=\"https://colab.research.google.com/assets/colab-badge.svg\" alt=\"Open In Colab\"/></a>"
      ]
    },
    {
      "cell_type": "markdown",
      "source": [
        "# **Online Store with Bayes Classifier**"
      ],
      "metadata": {
        "id": "7OBaMK6ZnukK"
      }
    },
    {
      "cell_type": "markdown",
      "source": [
        "## **Libraries**"
      ],
      "metadata": {
        "id": "F2MbFHnfoEV5"
      }
    },
    {
      "cell_type": "code",
      "execution_count": 5,
      "metadata": {
        "id": "AwgdKCqnnsWc"
      },
      "outputs": [],
      "source": [
        "# ------------------------\n",
        "# 1️⃣ Import Libraries\n",
        "# ------------------------\n",
        "\n",
        "import pandas as pd\n",
        "import numpy as np\n",
        "import re\n",
        "from collections import defaultdict, Counter\n",
        "import math\n",
        "from sklearn.model_selection import train_test_split\n",
        "from sklearn.metrics import confusion_matrix, accuracy_score, ConfusionMatrixDisplay\n",
        "import matplotlib.pyplot as plt"
      ]
    },
    {
      "cell_type": "markdown",
      "source": [
        "## **Load Dataset**"
      ],
      "metadata": {
        "id": "xfiuZ1nmHahk"
      }
    },
    {
      "cell_type": "code",
      "source": [
        "# ------------------------\n",
        "# 2️⃣ Load Dataset\n",
        "# ------------------------\n",
        "\n",
        "df = pd.read_csv('pricerunner_aggregate.csv')"
      ],
      "metadata": {
        "id": "bvmDcTH-Hap6"
      },
      "execution_count": 6,
      "outputs": []
    }
  ]
}