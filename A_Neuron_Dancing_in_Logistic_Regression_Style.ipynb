{
  "nbformat": 4,
  "nbformat_minor": 0,
  "metadata": {
    "colab": {
      "provenance": [],
      "authorship_tag": "ABX9TyNAwTlKkqn30W2oLabB9g2q",
      "include_colab_link": true
    },
    "kernelspec": {
      "name": "python3",
      "display_name": "Python 3"
    },
    "language_info": {
      "name": "python"
    }
  },
  "cells": [
    {
      "cell_type": "markdown",
      "metadata": {
        "id": "view-in-github",
        "colab_type": "text"
      },
      "source": [
        "<a href=\"https://colab.research.google.com/github/Sayed-Hossein-Hosseini/A_Journey_into_the_Depths_of_Neural_Networks/blob/master/A_Neuron_Dancing_in_Logistic_Regression_Style.ipynb\" target=\"_parent\"><img src=\"https://colab.research.google.com/assets/colab-badge.svg\" alt=\"Open In Colab\"/></a>"
      ]
    },
    {
      "cell_type": "markdown",
      "source": [
        "# **A Neuron Dancing in Logistic Regression Style**"
      ],
      "metadata": {
        "id": "RuPpZBXIQUmz"
      }
    },
    {
      "cell_type": "markdown",
      "source": [
        "## **Libraries**"
      ],
      "metadata": {
        "id": "H_M6ixCMQOPx"
      }
    },
    {
      "cell_type": "code",
      "execution_count": 10,
      "metadata": {
        "id": "vz0-j6kYKhjk"
      },
      "outputs": [],
      "source": [
        "import numpy as np\n",
        "import pandas as pd\n",
        "import matplotlib.pyplot as plt\n",
        "import seaborn as sns\n",
        "import tensorflow as tf\n",
        "from sklearn.model_selection import train_test_split\n",
        "from sklearn.metrics import confusion_matrix, f1_score, accuracy_score, precision_score, recall_score"
      ]
    },
    {
      "cell_type": "markdown",
      "source": [
        "## **Loading Dataset and Normalization**"
      ],
      "metadata": {
        "id": "giWMFWiFQlFz"
      }
    },
    {
      "cell_type": "code",
      "source": [
        "# Load in the data\n",
        "cifar10 = tf.keras.datasets.cifar10\n",
        "\n",
        "(X_train, y_train), (X_test, y_test) = cifar10.load_data()\n",
        "X_train, X_test = X_train / 255.0, X_test / 255.0\n",
        "\n",
        "print(X_train.shape)\n",
        "print(X_test.shape)\n",
        "\n",
        "print(y_train.shape)\n",
        "print(y_test.shape)"
      ],
      "metadata": {
        "colab": {
          "base_uri": "https://localhost:8080/"
        },
        "id": "2AW0swbhQul7",
        "outputId": "eaf90e05-ee81-4809-e362-5039878156b7"
      },
      "execution_count": 2,
      "outputs": [
        {
          "output_type": "stream",
          "name": "stdout",
          "text": [
            "(50000, 32, 32, 3)\n",
            "(10000, 32, 32, 3)\n",
            "(50000, 1)\n",
            "(10000, 1)\n"
          ]
        }
      ]
    },
    {
      "cell_type": "markdown",
      "source": [
        "## **Relabeling Data**"
      ],
      "metadata": {
        "id": "vZZRZHsbU8gN"
      }
    },
    {
      "cell_type": "code",
      "source": [
        "# Label 0 is for airplane\n",
        "y_train = np.where(y_train == 0, 0, 1)\n",
        "y_test = np.where(y_test == 0, 0, 1)\n",
        "\n",
        "print(\"y_train:\")\n",
        "print(y_train[160:170])\n",
        "\n",
        "print(\"y_test:\")\n",
        "print(y_test[160:170])"
      ],
      "metadata": {
        "colab": {
          "base_uri": "https://localhost:8080/"
        },
        "id": "bU49hDj7U_sX",
        "outputId": "304a47cc-371a-49ab-e41a-2edcb307b9d9"
      },
      "execution_count": 3,
      "outputs": [
        {
          "output_type": "stream",
          "name": "stdout",
          "text": [
            "y_train:\n",
            "[[1]\n",
            " [1]\n",
            " [1]\n",
            " [1]\n",
            " [1]\n",
            " [0]\n",
            " [1]\n",
            " [1]\n",
            " [1]\n",
            " [1]]\n",
            "y_test:\n",
            "[[1]\n",
            " [1]\n",
            " [1]\n",
            " [1]\n",
            " [1]\n",
            " [1]\n",
            " [1]\n",
            " [1]\n",
            " [1]\n",
            " [0]]\n"
          ]
        }
      ]
    },
    {
      "cell_type": "markdown",
      "source": [
        "## **Flatten and Reshape Images**"
      ],
      "metadata": {
        "id": "Ufm9progYmGi"
      }
    },
    {
      "cell_type": "code",
      "source": [
        "# reshape images from (32, 32, 3) to (3072,)\n",
        "X_train = X_train.reshape((X_train.shape[0], -1))  # (50000, 3072)\n",
        "X_test = X_test.reshape((X_test.shape[0], -1))     # (10000, 3072)\n",
        "\n",
        "y_train, y_test = y_train.flatten(), y_test.flatten() # (50000,  -   10000,)"
      ],
      "metadata": {
        "id": "tDhKVGCqYmTh"
      },
      "execution_count": 4,
      "outputs": []
    },
    {
      "cell_type": "markdown",
      "source": [
        "## **Model**"
      ],
      "metadata": {
        "id": "-iPhRbrdrIQS"
      }
    },
    {
      "cell_type": "markdown",
      "source": [
        "### **Activation Function : Sigmoid and Relu**"
      ],
      "metadata": {
        "id": "mnzpvpfWrMcb"
      }
    },
    {
      "cell_type": "code",
      "source": [
        "class Activation:\n",
        "    @staticmethod\n",
        "    def sigmoid(z):\n",
        "        return 1 / (1 + np.exp(-z))\n",
        "\n",
        "    @staticmethod\n",
        "    def sigmoid_derivative(a):\n",
        "        return a * (1 - a)\n",
        "\n",
        "    @staticmethod\n",
        "    def relu(z):\n",
        "        return np.maximum(0, z)\n",
        "\n",
        "    @staticmethod\n",
        "    def relu_derivative(z):\n",
        "        return (z > 0).astype(float)"
      ],
      "metadata": {
        "id": "x0QGpN9KrV1_"
      },
      "execution_count": 5,
      "outputs": []
    },
    {
      "cell_type": "markdown",
      "source": [
        "## **Neural Network**"
      ],
      "metadata": {
        "id": "20JZ6cuHxEnN"
      }
    },
    {
      "cell_type": "markdown",
      "source": [
        "### **Dence Layer Class**"
      ],
      "metadata": {
        "id": "46o1yXDkxYBv"
      }
    },
    {
      "cell_type": "code",
      "source": [
        "class DenseLayer:\n",
        "    def __init__(self, input_size, output_size, activation='sigmoid'):\n",
        "        self.w = np.random.randn(input_size, output_size) * 0.01\n",
        "        self.b = np.zeros((1, output_size))\n",
        "        self.activation_name = activation\n",
        "        self.z = None\n",
        "        self.a = None\n",
        "        self.input = None\n",
        "\n",
        "    def forward(self, x):\n",
        "        self.input = x\n",
        "        self.z = np.dot(x, self.w) + self.b\n",
        "        if self.activation_name == 'sigmoid':\n",
        "            self.a = Activation.sigmoid(self.z)\n",
        "        elif self.activation_name == 'relu':\n",
        "            self.a = Activation.relu(self.z)\n",
        "        return self.a\n",
        "\n",
        "    def backward(self, da, lr):\n",
        "        m = self.input.shape[0]\n",
        "        if self.activation_name == 'sigmoid':\n",
        "            dz = da * Activation.sigmoid_derivative(self.a)\n",
        "        elif self.activation_name == 'relu':\n",
        "            dz = da * Activation.relu_derivative(self.z)\n",
        "\n",
        "        dw = np.dot(self.input.T, dz) / m\n",
        "        db = np.sum(dz, axis=0, keepdims=True) / m\n",
        "        da_prev = np.dot(dz, self.w.T)\n",
        "\n",
        "        self.w -= lr * dw\n",
        "        self.b -= lr * db\n",
        "\n",
        "        return da_prev"
      ],
      "metadata": {
        "id": "lKK6y_4-7nqv"
      },
      "execution_count": 6,
      "outputs": []
    },
    {
      "cell_type": "markdown",
      "source": [
        "### **Neural Network Class**"
      ],
      "metadata": {
        "id": "Ckqh4rYj8Ovl"
      }
    },
    {
      "cell_type": "code",
      "source": [
        "class NeuralNetwork:\n",
        "    def __init__(self):\n",
        "        self.layers = []\n",
        "\n",
        "    def add(self, layer):\n",
        "        self.layers.append(layer)\n",
        "\n",
        "    def forward(self, x):\n",
        "        for layer in self.layers:\n",
        "            x = layer.forward(x)\n",
        "        return x\n",
        "\n",
        "    def compute_loss(self, y_true, y_pred):\n",
        "        epsilon = 1e-8\n",
        "        return -np.mean(y_true * np.log(y_pred + epsilon) + (1 - y_true) * np.log(1 - y_pred + epsilon))\n",
        "\n",
        "    def backward(self, y_true, y_pred, lr):\n",
        "        da = -(np.divide(y_true, y_pred + 1e-8) - np.divide(1 - y_true, 1 - y_pred + 1e-8))\n",
        "        for layer in reversed(self.layers):\n",
        "            da = layer.backward(da, lr)\n",
        "\n",
        "    def train(self, X, y, epochs=100, lr=0.01, batch_size=64, verbose=True):\n",
        "        for epoch in range(epochs):\n",
        "            # ✅ Shuffle the data at the beginning of each epoch\n",
        "            indices = np.arange(X.shape[0])\n",
        "            np.random.shuffle(indices)\n",
        "            X_shuffled = X[indices]\n",
        "            y_shuffled = y[indices]\n",
        "\n",
        "            epoch_loss = []\n",
        "\n",
        "            # ✅ Mini-batch gradient descent\n",
        "            for i in range(0, X.shape[0], batch_size):\n",
        "                x_batch = X_shuffled[i:i+batch_size]\n",
        "                y_batch = y_shuffled[i:i+batch_size].reshape(-1, 1)\n",
        "\n",
        "                # Forward pass\n",
        "                output = x_batch\n",
        "                for layer in self.layers:\n",
        "                    output = layer.forward(output)\n",
        "\n",
        "                # ✅ Derivative of binary cross-entropy with sigmoid output (dz = a - y)\n",
        "                dz = output - y_batch\n",
        "                gradient = dz\n",
        "\n",
        "                # Backward pass\n",
        "                for layer in reversed(self.layers):\n",
        "                    gradient = layer.backward(gradient, lr)\n",
        "\n",
        "                # Compute batch loss\n",
        "                batch_loss = np.mean(\n",
        "                    -y_batch * np.log(output + 1e-8) - (1 - y_batch) * np.log(1 - output + 1e-8)\n",
        "                )\n",
        "                epoch_loss.append(batch_loss)\n",
        "\n",
        "            # ✅ Print average loss per epoch\n",
        "            if verbose and epoch % 10 == 0:\n",
        "                avg_loss = np.mean(epoch_loss)\n",
        "                print(f\"Epoch {epoch}: Loss = {avg_loss:.4f}\")\n",
        "\n",
        "\n",
        "    def predict(self, X):\n",
        "        y_pred = self.forward(X)\n",
        "        return (y_pred >= 0.5).astype(int)"
      ],
      "metadata": {
        "id": "ca_5RsGf8RhL"
      },
      "execution_count": 7,
      "outputs": []
    },
    {
      "cell_type": "markdown",
      "source": [
        "## **Main**"
      ],
      "metadata": {
        "id": "O8-Dn44Bvscx"
      }
    },
    {
      "cell_type": "code",
      "source": [
        "model = NeuralNetwork()\n",
        "model.add(DenseLayer(3072, 1, activation='sigmoid'))\n",
        "\n",
        "model.train(X_train, y_train, epochs=1000, lr=0.01, batch_size=64)\n",
        "predictions = model.predict(X_test)"
      ],
      "metadata": {
        "id": "22f2XcLR8v7V",
        "colab": {
          "base_uri": "https://localhost:8080/"
        },
        "outputId": "5ef36056-4d01-43dc-9364-420939217797"
      },
      "execution_count": 8,
      "outputs": [
        {
          "output_type": "stream",
          "name": "stdout",
          "text": [
            "Epoch 0: Loss = 0.3539\n",
            "Epoch 10: Loss = 0.2954\n",
            "Epoch 20: Loss = 0.2892\n",
            "Epoch 30: Loss = 0.2849\n",
            "Epoch 40: Loss = 0.2814\n",
            "Epoch 50: Loss = 0.2782\n",
            "Epoch 60: Loss = 0.2749\n",
            "Epoch 70: Loss = 0.2726\n",
            "Epoch 80: Loss = 0.2708\n",
            "Epoch 90: Loss = 0.2685\n",
            "Epoch 100: Loss = 0.2669\n",
            "Epoch 110: Loss = 0.2656\n",
            "Epoch 120: Loss = 0.2637\n",
            "Epoch 130: Loss = 0.2623\n",
            "Epoch 140: Loss = 0.2614\n",
            "Epoch 150: Loss = 0.2598\n",
            "Epoch 160: Loss = 0.2589\n",
            "Epoch 170: Loss = 0.2582\n",
            "Epoch 180: Loss = 0.2574\n",
            "Epoch 190: Loss = 0.2565\n",
            "Epoch 200: Loss = 0.2557\n",
            "Epoch 210: Loss = 0.2554\n",
            "Epoch 220: Loss = 0.2548\n",
            "Epoch 230: Loss = 0.2544\n",
            "Epoch 240: Loss = 0.2536\n",
            "Epoch 250: Loss = 0.2529\n",
            "Epoch 260: Loss = 0.2523\n",
            "Epoch 270: Loss = 0.2520\n",
            "Epoch 280: Loss = 0.2515\n",
            "Epoch 290: Loss = 0.2510\n",
            "Epoch 300: Loss = 0.2507\n",
            "Epoch 310: Loss = 0.2506\n",
            "Epoch 320: Loss = 0.2500\n",
            "Epoch 330: Loss = 0.2501\n",
            "Epoch 340: Loss = 0.2497\n",
            "Epoch 350: Loss = 0.2495\n",
            "Epoch 360: Loss = 0.2492\n",
            "Epoch 370: Loss = 0.2488\n",
            "Epoch 380: Loss = 0.2487\n",
            "Epoch 390: Loss = 0.2483\n",
            "Epoch 400: Loss = 0.2486\n",
            "Epoch 410: Loss = 0.2480\n",
            "Epoch 420: Loss = 0.2480\n",
            "Epoch 430: Loss = 0.2479\n",
            "Epoch 440: Loss = 0.2476\n",
            "Epoch 450: Loss = 0.2476\n",
            "Epoch 460: Loss = 0.2473\n",
            "Epoch 470: Loss = 0.2472\n",
            "Epoch 480: Loss = 0.2469\n",
            "Epoch 490: Loss = 0.2470\n",
            "Epoch 500: Loss = 0.2465\n",
            "Epoch 510: Loss = 0.2466\n",
            "Epoch 520: Loss = 0.2467\n",
            "Epoch 530: Loss = 0.2467\n",
            "Epoch 540: Loss = 0.2467\n",
            "Epoch 550: Loss = 0.2464\n",
            "Epoch 560: Loss = 0.2464\n",
            "Epoch 570: Loss = 0.2467\n",
            "Epoch 580: Loss = 0.2463\n",
            "Epoch 590: Loss = 0.2461\n",
            "Epoch 600: Loss = 0.2464\n",
            "Epoch 610: Loss = 0.2459\n",
            "Epoch 620: Loss = 0.2459\n",
            "Epoch 630: Loss = 0.2459\n",
            "Epoch 640: Loss = 0.2460\n",
            "Epoch 650: Loss = 0.2459\n",
            "Epoch 660: Loss = 0.2455\n",
            "Epoch 670: Loss = 0.2457\n",
            "Epoch 680: Loss = 0.2457\n",
            "Epoch 690: Loss = 0.2458\n",
            "Epoch 700: Loss = 0.2455\n",
            "Epoch 710: Loss = 0.2453\n",
            "Epoch 720: Loss = 0.2458\n",
            "Epoch 730: Loss = 0.2465\n",
            "Epoch 740: Loss = 0.2455\n",
            "Epoch 750: Loss = 0.2453\n",
            "Epoch 760: Loss = 0.2458\n",
            "Epoch 770: Loss = 0.2458\n",
            "Epoch 780: Loss = 0.2454\n",
            "Epoch 790: Loss = 0.2453\n",
            "Epoch 800: Loss = 0.2454\n",
            "Epoch 810: Loss = 0.2455\n",
            "Epoch 820: Loss = 0.2453\n",
            "Epoch 830: Loss = 0.2452\n",
            "Epoch 840: Loss = 0.2452\n",
            "Epoch 850: Loss = 0.2451\n",
            "Epoch 860: Loss = 0.2452\n",
            "Epoch 870: Loss = 0.2451\n",
            "Epoch 880: Loss = 0.2450\n",
            "Epoch 890: Loss = 0.2454\n",
            "Epoch 900: Loss = 0.2451\n",
            "Epoch 910: Loss = 0.2450\n",
            "Epoch 920: Loss = 0.2450\n",
            "Epoch 930: Loss = 0.2449\n",
            "Epoch 940: Loss = 0.2456\n",
            "Epoch 950: Loss = 0.2454\n",
            "Epoch 960: Loss = 0.2448\n",
            "Epoch 970: Loss = 0.2451\n",
            "Epoch 980: Loss = 0.2456\n",
            "Epoch 990: Loss = 0.2449\n"
          ]
        }
      ]
    },
    {
      "cell_type": "markdown",
      "source": [
        "## **Calculation and Evaluation**"
      ],
      "metadata": {
        "id": "2Tg5TIz7-TJl"
      }
    },
    {
      "cell_type": "code",
      "source": [
        "# Predictions\n",
        "predictions_binary = (predictions >= 0.5).astype(int)\n",
        "\n",
        "# Confusion Matrix\n",
        "cm = confusion_matrix(y_test, predictions_binary)\n",
        "print(\"Confusion Matrix:\\n\", cm)\n",
        "\n",
        "# Plot confusion matrix\n",
        "plt.figure(figsize=(6, 5))\n",
        "sns.heatmap(cm, annot=True, fmt='d', cmap='Blues', cbar=False)\n",
        "plt.xlabel('Predicted Labels')\n",
        "plt.ylabel('True Labels')\n",
        "plt.title('Confusion Matrix')\n",
        "plt.show()\n",
        "\n",
        "# F1 Score\n",
        "f1 = f1_score(y_test, predictions_binary)\n",
        "print(\"F1 Score:\", f1)\n",
        "\n",
        "# Optional: Accuracy, Precision, Recall\n",
        "acc = accuracy_score(y_test, predictions_binary)\n",
        "prec = precision_score(y_test, predictions_binary)\n",
        "rec = recall_score(y_test, predictions_binary)\n",
        "\n",
        "print(\"Accuracy:\", acc)\n",
        "print(\"Precision:\", prec)\n",
        "print(\"Recall:\", rec)"
      ],
      "metadata": {
        "id": "yrvWJ3di-h2H",
        "colab": {
          "base_uri": "https://localhost:8080/",
          "height": 608
        },
        "outputId": "8bd556bc-588f-4e5b-ef4d-623dd46eddc6"
      },
      "execution_count": 11,
      "outputs": [
        {
          "output_type": "stream",
          "name": "stdout",
          "text": [
            "Confusion Matrix:\n",
            " [[ 264  736]\n",
            " [ 134 8866]]\n"
          ]
        },
        {
          "output_type": "display_data",
          "data": {
            "text/plain": [
              "<Figure size 600x500 with 1 Axes>"
            ],
            "image/png": "[encoded data removed]"
          },
          "metadata": {}
        },
        {
          "output_type": "stream",
          "name": "stdout",
          "text": [
            "F1 Score: 0.9532308353940436\n",
            "Accuracy: 0.913\n",
            "Precision: 0.9233493022287024\n",
            "Recall: 0.9851111111111112\n"
          ]
        }
      ]
    }
  ]
}