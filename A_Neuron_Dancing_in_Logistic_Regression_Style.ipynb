{
  "nbformat": 4,
  "nbformat_minor": 0,
  "metadata": {
    "colab": {
      "provenance": [],
      "authorship_tag": "ABX9TyN6dcfePHrsbNCKr+r7JSgy",
      "include_colab_link": true
    },
    "kernelspec": {
      "name": "python3",
      "display_name": "Python 3"
    },
    "language_info": {
      "name": "python"
    }
  },
  "cells": [
    {
      "cell_type": "markdown",
      "metadata": {
        "id": "view-in-github",
        "colab_type": "text"
      },
      "source": [
        "<a href=\"https://colab.research.google.com/github/Sayed-Hossein-Hosseini/A_Journey_into_the_Depths_of_Neural_Networks/blob/master/A_Neuron_Dancing_in_Logistic_Regression_Style.ipynb\" target=\"_parent\"><img src=\"https://colab.research.google.com/assets/colab-badge.svg\" alt=\"Open In Colab\"/></a>"
      ]
    },
    {
      "cell_type": "markdown",
      "source": [
        "# **A Neuron Dancing in Logistic Regression Style**"
      ],
      "metadata": {
        "id": "RuPpZBXIQUmz"
      }
    },
    {
      "cell_type": "markdown",
      "source": [
        "## **Libraries**"
      ],
      "metadata": {
        "id": "H_M6ixCMQOPx"
      }
    },
    {
      "cell_type": "code",
      "execution_count": 1,
      "metadata": {
        "id": "vz0-j6kYKhjk"
      },
      "outputs": [],
      "source": [
        "import tensorflow as tf\n",
        "import numpy as np\n",
        "import pandas as pd\n",
        "import matplotlib.pyplot as plt\n",
        "from tensorflow.keras.layers import Input, Conv2D, Dense, Flatten, Dropout, MaxPooling2D, BatchNormalization\n",
        "from tensorflow.keras.models import Model\n",
        "from tensorflow.keras.callbacks import EarlyStopping\n",
        "from sklearn.model_selection import train_test_split"
      ]
    },
    {
      "cell_type": "markdown",
      "source": [
        "## **Loading Dataset and Normalization**"
      ],
      "metadata": {
        "id": "giWMFWiFQlFz"
      }
    },
    {
      "cell_type": "code",
      "source": [
        "# Load in the data\n",
        "cifar10 = tf.keras.datasets.cifar10\n",
        "\n",
        "(X_train, y_train), (X_test, y_test) = cifar10.load_data()\n",
        "X_train, X_test = X_train / 255.0, X_test / 255.0\n",
        "\n",
        "print(X_train.shape)\n",
        "print(X_test.shape)\n",
        "\n",
        "print(y_train.shape)\n",
        "print(y_test.shape)"
      ],
      "metadata": {
        "colab": {
          "base_uri": "https://localhost:8080/"
        },
        "id": "2AW0swbhQul7",
        "outputId": "2feaa325-2c02-42a3-ec77-84e27510e853"
      },
      "execution_count": 2,
      "outputs": [
        {
          "output_type": "stream",
          "name": "stdout",
          "text": [
            "(50000, 32, 32, 3)\n",
            "(10000, 32, 32, 3)\n",
            "(50000, 1)\n",
            "(10000, 1)\n"
          ]
        }
      ]
    },
    {
      "cell_type": "markdown",
      "source": [
        "## **Relabeling Data**"
      ],
      "metadata": {
        "id": "vZZRZHsbU8gN"
      }
    },
    {
      "cell_type": "code",
      "source": [
        "# Label 0 is for airplane\n",
        "y_train = np.where(y_train == 0, 0, 1)\n",
        "y_test = np.where(y_test == 0, 0, 1)\n",
        "\n",
        "print(\"y_train:\")\n",
        "print(y_train[160:170])\n",
        "\n",
        "print(\"y_test:\")\n",
        "print(y_test[160:170])"
      ],
      "metadata": {
        "colab": {
          "base_uri": "https://localhost:8080/"
        },
        "id": "bU49hDj7U_sX",
        "outputId": "2463f7de-92f3-4597-a635-31f2ea6aa365"
      },
      "execution_count": 3,
      "outputs": [
        {
          "output_type": "stream",
          "name": "stdout",
          "text": [
            "y_train:\n",
            "[[1]\n",
            " [1]\n",
            " [1]\n",
            " [1]\n",
            " [1]\n",
            " [0]\n",
            " [1]\n",
            " [1]\n",
            " [1]\n",
            " [1]]\n",
            "y_test:\n",
            "[[1]\n",
            " [1]\n",
            " [1]\n",
            " [1]\n",
            " [1]\n",
            " [1]\n",
            " [1]\n",
            " [1]\n",
            " [1]\n",
            " [0]]\n"
          ]
        }
      ]
    },
    {
      "cell_type": "markdown",
      "source": [
        "## **Flatten and Reshape Images**"
      ],
      "metadata": {
        "id": "Ufm9progYmGi"
      }
    },
    {
      "cell_type": "code",
      "source": [
        "# reshape تصاویر از (32, 32, 3) به (3072,)\n",
        "X_train = X_train.reshape((X_train.shape[0], -1))  # (50000, 3072)\n",
        "X_test = X_test.reshape((X_test.shape[0], -1))     # (10000, 3072)\n",
        "\n",
        "y_train, y_test = y_train.flatten(), y_test.flatten() # (50000,  -   10000,)"
      ],
      "metadata": {
        "id": "tDhKVGCqYmTh"
      },
      "execution_count": 4,
      "outputs": []
    },
    {
      "cell_type": "markdown",
      "source": [
        "## **Model**"
      ],
      "metadata": {
        "id": "-iPhRbrdrIQS"
      }
    },
    {
      "cell_type": "markdown",
      "source": [
        "### **Activation Function : Sigmoid**"
      ],
      "metadata": {
        "id": "mnzpvpfWrMcb"
      }
    },
    {
      "cell_type": "code",
      "source": [
        "class Activation:\n",
        "    @staticmethod\n",
        "    def sigmoid(z):\n",
        "        return 1 / (1 + np.exp(-z))\n",
        "\n",
        "    @staticmethod\n",
        "    def sigmoid_derivative(a):\n",
        "        return a * (1 - a)"
      ],
      "metadata": {
        "colab": {
          "base_uri": "https://localhost:8080/"
        },
        "id": "x0QGpN9KrV1_",
        "outputId": "ec37141e-f00a-4301-e763-c07a9d85666c"
      },
      "execution_count": 5,
      "outputs": [
        {
          "output_type": "stream",
          "name": "stdout",
          "text": [
            "0.9999546021312976\n",
            "0.5\n"
          ]
        }
      ]
    },
    {
      "cell_type": "markdown",
      "source": [
        "## **Neural Network**"
      ],
      "metadata": {
        "id": "20JZ6cuHxEnN"
      }
    },
    {
      "cell_type": "markdown",
      "source": [
        "### **Dence Layer**"
      ],
      "metadata": {
        "id": "46o1yXDkxYBv"
      }
    },
    {
      "cell_type": "code",
      "source": [
        "class DenseLayer:\n",
        "    def __init__(self, input_size, output_size, activation='sigmoid'):\n",
        "        self.w = np.random.randn(input_size, output_size) * 0.01\n",
        "        self.b = np.zeros((1, output_size))\n",
        "        self.activation_name = activation\n",
        "        self.z = None\n",
        "        self.a = None\n",
        "        self.input = None\n",
        "\n",
        "    def forward(self, x):\n",
        "        self.input = x\n",
        "        self.z = np.dot(x, self.w) + self.b\n",
        "        if self.activation_name == 'sigmoid':\n",
        "            self.a = Activation.sigmoid(self.z)\n",
        "        elif self.activation_name == 'relu':\n",
        "            self.a = Activation.relu(self.z)\n",
        "        return self.a\n",
        "\n",
        "    def backward(self, da, lr):\n",
        "        m = self.input.shape[0]\n",
        "        if self.activation_name == 'sigmoid':\n",
        "            dz = da * Activation.sigmoid_derivative(self.a)\n",
        "        elif self.activation_name == 'relu':\n",
        "            dz = da * Activation.relu_derivative(self.z)\n",
        "\n",
        "        dw = np.dot(self.input.T, dz) / m\n",
        "        db = np.sum(dz, axis=0, keepdims=True) / m\n",
        "        da_prev = np.dot(dz, self.w.T)\n",
        "\n",
        "        self.w -= lr * dw\n",
        "        self.b -= lr * db\n",
        "\n",
        "        return da_prev"
      ],
      "metadata": {
        "id": "lKK6y_4-7nqv"
      },
      "execution_count": null,
      "outputs": []
    },
    {
      "cell_type": "markdown",
      "source": [
        "## **Train**"
      ],
      "metadata": {
        "id": "O8-Dn44Bvscx"
      }
    },
    {
      "cell_type": "markdown",
      "source": [
        "### **Gradient Descent**"
      ],
      "metadata": {
        "id": "Y1M_Pfwnvhaw"
      }
    },
    {
      "cell_type": "code",
      "source": [],
      "metadata": {
        "id": "cDuiK8dGv33f"
      },
      "execution_count": 8,
      "outputs": []
    }
  ]
}